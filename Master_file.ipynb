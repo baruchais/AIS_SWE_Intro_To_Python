{
  "nbformat": 4,
  "nbformat_minor": 0,
  "metadata": {
    "colab": {
      "provenance": [],
      "toc_visible": true
    },
    "kernelspec": {
      "name": "python3",
      "display_name": "Python 3"
    },
    "language_info": {
      "name": "python"
    }
  },
  "cells": [
    {
      "cell_type": "markdown",
      "source": [
        "# **Welcome everyone to our first SWE Event: Intro to Python!**\n",
        "## This is a beginner friendly event, so everyone is welcome to code with us 😊 \n",
        "## Feel free to leave any questions, comments, or concerns in the chat 💬"
      ],
      "metadata": {
        "id": "NRJ_P-QxoJYd"
      }
    },
    {
      "cell_type": "markdown",
      "source": [
        "# **Variables**"
      ],
      "metadata": {
        "id": "GE964FMtpLkK"
      }
    },
    {
      "cell_type": "code",
      "source": [
        "# What is a variable?\n",
        "# Variables are values that can change, and are used to store data.\n",
        "# We can store many different types of data into these variables, and each of these types are called Data Types.\n",
        "\n",
        "# Here is an example of assigning data to a variable\n",
        "# The process of assignment allows you to store data into your variables\n",
        "year = 2022\n",
        "\n",
        "# When you print the value of the variable called year, you will see that the output is the current year\n",
        "# We use the print() function to show the output and type() to show the data type of data\n",
        "print(year)\n",
        "print(type(year))"
      ],
      "metadata": {
        "colab": {
          "base_uri": "https://localhost:8080/"
        },
        "id": "vsfwR1bxnyGs",
        "outputId": "96a1bff1-4dc5-4ea0-9f4f-a029a6bc62cb"
      },
      "execution_count": null,
      "outputs": [
        {
          "output_type": "stream",
          "name": "stdout",
          "text": [
            "2022\n",
            "<class 'int'>\n"
          ]
        }
      ]
    },
    {
      "cell_type": "markdown",
      "source": [
        "# **Data Type 1 -> Integers**"
      ],
      "metadata": {
        "id": "EeqvCC-asQx2"
      }
    },
    {
      "cell_type": "code",
      "source": [
        "# What is an integer?\n",
        "# Integers are whole numbers, and can be both positive or negative.\n",
        "\n",
        "# Here is an example of assigning an INTEGER to a variable\n",
        "apples = 15\n",
        "print(\"We have\", apples, \"apples.\")\n",
        "\n",
        "# The Integer data type, also known as int, as many operators that allow us to manipulate its data"
      ],
      "metadata": {
        "colab": {
          "base_uri": "https://localhost:8080/"
        },
        "id": "vieAG10dqPEY",
        "outputId": "7133ec9f-3c58-4054-c7bd-0f4ee132732d"
      },
      "execution_count": null,
      "outputs": [
        {
          "output_type": "stream",
          "name": "stdout",
          "text": [
            "We have 15 apples.\n"
          ]
        }
      ]
    },
    {
      "cell_type": "code",
      "source": [
        "# If we bought 5 more apples from the store, we want to add 3 to the amount of apples that we currently have\n",
        "apples = 15 + 5\n",
        "print(\"After buying 5 more apples, we now have\", apples, \"apples.\")"
      ],
      "metadata": {
        "colab": {
          "base_uri": "https://localhost:8080/"
        },
        "id": "PTsAbh4WuI8j",
        "outputId": "85c036b8-fb2b-4318-b0e8-45cc8f275c8f"
      },
      "execution_count": null,
      "outputs": [
        {
          "output_type": "stream",
          "name": "stdout",
          "text": [
            "After buying 5 more apples, we now have 20 apples.\n"
          ]
        }
      ]
    },
    {
      "cell_type": "code",
      "source": [
        "# If we ate 1 apple, we want to subtract 1 from the amount of apples that we currently have\n",
        "apples = 15 - 1\n",
        "print(\"After eating 2 apple, we now have\", apples, \"apples,\")"
      ],
      "metadata": {
        "colab": {
          "base_uri": "https://localhost:8080/"
        },
        "id": "2H7Pjk_LuUYA",
        "outputId": "c3c21c58-0b6e-4345-80b0-03ea5e32b4e8"
      },
      "execution_count": null,
      "outputs": [
        {
          "output_type": "stream",
          "name": "stdout",
          "text": [
            "After eating 2 apple, we now have 14 apples,\n"
          ]
        }
      ]
    },
    {
      "cell_type": "code",
      "source": [
        "# If we share our apples between 5 people, we want to divide the amount of apples by 6\n",
        "apples = 15 / 5\n",
        "print(\"After sharing 15 apples between 5 people, we have\", apples, \"apples left.\")\n",
        "\n",
        "# The reason why we see 3.0 instead of 3 is because the division operator will always return a decimal number"
      ],
      "metadata": {
        "colab": {
          "base_uri": "https://localhost:8080/"
        },
        "id": "KbCgBubUvIHa",
        "outputId": "e922bce3-5518-4253-c34d-d8c58116b13a"
      },
      "execution_count": null,
      "outputs": [
        {
          "output_type": "stream",
          "name": "stdout",
          "text": [
            "After sharing 15 apples between 5 people, we have 3.0 apples left.\n"
          ]
        }
      ]
    },
    {
      "cell_type": "code",
      "source": [
        "# If we wanted to divide two integers while ignoring the decimal places, we will use an integer division operator\n",
        "apples = 18\n",
        "print(apples / 6)\n",
        "print(apples // 6)"
      ],
      "metadata": {
        "colab": {
          "base_uri": "https://localhost:8080/"
        },
        "id": "b0Lh8VKnvp7v",
        "outputId": "917d1a69-22c0-4200-dccc-6bd0e86be859"
      },
      "execution_count": null,
      "outputs": [
        {
          "output_type": "stream",
          "name": "stdout",
          "text": [
            "3.0\n",
            "3\n"
          ]
        }
      ]
    },
    {
      "cell_type": "code",
      "source": [
        "# If we have an integer that is not perfectly divisible by divisor, using integer division will ignore the remainder of the expression\n",
        "apples = 15\n",
        "print(apples / 10)\n",
        "print(apples // 10)"
      ],
      "metadata": {
        "colab": {
          "base_uri": "https://localhost:8080/"
        },
        "id": "olWX9H2BwUzK",
        "outputId": "f33dcfd5-8aee-4b76-e880-864b6ec5aade"
      },
      "execution_count": null,
      "outputs": [
        {
          "output_type": "stream",
          "name": "stdout",
          "text": [
            "1.5\n",
            "1\n"
          ]
        }
      ]
    },
    {
      "cell_type": "code",
      "source": [
        "# If we want to know what our remainder is from division, we will use the modulus operator\n",
        "apples = 15\n",
        "print(apples / 10)\n",
        "print(apples % 10)"
      ],
      "metadata": {
        "colab": {
          "base_uri": "https://localhost:8080/"
        },
        "id": "T7WIT2qnwmcM",
        "outputId": "23a84359-656b-4205-fdee-829c6d9227e7"
      },
      "execution_count": null,
      "outputs": [
        {
          "output_type": "stream",
          "name": "stdout",
          "text": [
            "1.5\n",
            "5\n"
          ]
        }
      ]
    },
    {
      "cell_type": "code",
      "source": [
        "# If we want to implement exponents, we will use the exponent operator\n",
        "apples = 100\n",
        "print(apples**2)\n",
        "print(apples**(0.5))"
      ],
      "metadata": {
        "colab": {
          "base_uri": "https://localhost:8080/"
        },
        "id": "ULMU3tdEqzAA",
        "outputId": "d9e0a040-282c-4eba-e146-3f24a553ec9e"
      },
      "execution_count": null,
      "outputs": [
        {
          "output_type": "stream",
          "name": "stdout",
          "text": [
            "10000\n",
            "10.0\n"
          ]
        }
      ]
    },
    {
      "cell_type": "markdown",
      "source": [
        "# **Data Type 2 -> Floats**\n"
      ],
      "metadata": {
        "id": "e4CN1CkyR6Xx"
      }
    },
    {
      "cell_type": "code",
      "source": [
        "# What is a float?\n",
        "# Floats are floating-point numbers, or real numbers that are written with a decimal point\n",
        "\n",
        "# Here is an example of assigning a FLOAT to a variable\n",
        "money = 13.05\n",
        "print(\"We have\", f\"${money}\")\n",
        "print(type(13.05))"
      ],
      "metadata": {
        "id": "eS7xVVSvTDT0",
        "colab": {
          "base_uri": "https://localhost:8080/"
        },
        "outputId": "63b82e56-ee7c-458b-adf3-9237e905112f"
      },
      "execution_count": null,
      "outputs": [
        {
          "output_type": "stream",
          "name": "stdout",
          "text": [
            "We have $13.05\n",
            "<class 'float'>\n"
          ]
        }
      ]
    },
    {
      "cell_type": "code",
      "source": [
        "# Floats and integers have similar operations as well\n",
        "\n",
        "# Addition\n",
        "print(\"2.34 + 3.45 =\", 2.34 + 3.45)\n",
        "\n",
        "# Subtraction\n",
        "print(\"6.4 - 2.0 =\", 6.4 - 2.0)\n",
        "\n",
        "# Multiplication\n",
        "print(\"36.5 * 74.2 =\", 36.5 * 74.2)\n",
        "\n",
        "# Division\n",
        "print(\"24.6 / 11.9 =\", 24.6 / 11.9)\n",
        "\n",
        "# Integer Division\n",
        "print(\"24.6 // 11.9 =\", 24.6 // 11.9)\n",
        "\n",
        "# Modulus\n",
        "print(\"6.5 % 2.0 =\", 6.5 % 2.0)\n",
        "\n",
        "# Exponent\n",
        "print(\"6.5**2.0 =\", 6.5**2.0)"
      ],
      "metadata": {
        "colab": {
          "base_uri": "https://localhost:8080/"
        },
        "id": "PNVjcsJ7BnBN",
        "outputId": "4bd5d7a4-b134-494c-b05c-c13d3a47a499"
      },
      "execution_count": null,
      "outputs": [
        {
          "output_type": "stream",
          "name": "stdout",
          "text": [
            "2.34 + 3.45 = 5.79\n",
            "6.4 - 2.0 = 4.4\n",
            "36.5 * 74.2 = 2708.3\n",
            "24.6 / 11.9 = 2.0672268907563027\n",
            "24.6 // 11.9 = 2.0\n",
            "6.5 % 2.0 = 0.5\n",
            "6.5**2.0 = 42.25\n"
          ]
        }
      ]
    },
    {
      "cell_type": "markdown",
      "source": [
        "# **Data Type 3 -> Strings**"
      ],
      "metadata": {
        "id": "hBEt2153eEGf"
      }
    },
    {
      "cell_type": "code",
      "source": [
        "# Strings are a collection of characters, specifically unicode characters.\n",
        "# Strings MUST be encapsulated with quotations \"\" or ''\n",
        "\n",
        "# Here is an example\n",
        "print(\"Hello World\")\n",
        "\n",
        "#The following would also be considered strings\n",
        "print(type(\"I love AIS\"))\n",
        "print(type(\"Baruch student's are smart\")) #Note: Sometimes you want to use words with apostrophes, so use double quotes instead of a single quotes \n",
        "print(type(\"AIS is the best\"))"
      ],
      "metadata": {
        "id": "jQXS5syNpIEI",
        "colab": {
          "base_uri": "https://localhost:8080/"
        },
        "outputId": "e32b382e-6325-4bc6-cc5c-f18c42ad9b5c"
      },
      "execution_count": null,
      "outputs": [
        {
          "output_type": "stream",
          "name": "stdout",
          "text": [
            "Hello World\n",
            "<class 'str'>\n",
            "<class 'str'>\n",
            "<class 'str'>\n"
          ]
        }
      ]
    },
    {
      "cell_type": "code",
      "source": [
        "# String operations perform differently than integers and floats\n",
        "\n",
        "# Concatination -> +\n",
        "a = \"I love \"\n",
        "b = \"dogs\"\n",
        "print(a + b)\n",
        "\n",
        "# Repetition -> *\n",
        "print(\"I love cats \" * 3)"
      ],
      "metadata": {
        "colab": {
          "base_uri": "https://localhost:8080/"
        },
        "id": "h_2Y0BWaUHwE",
        "outputId": "cb9dda31-ae0d-4c62-e91f-8c86ce3d4799"
      },
      "execution_count": null,
      "outputs": [
        {
          "output_type": "stream",
          "name": "stdout",
          "text": [
            "I love dogs\n",
            "I love cats I love cats I love cats \n"
          ]
        }
      ]
    },
    {
      "cell_type": "code",
      "source": [
        "# We can also use String formatting to make Strings efficiently\n",
        "# We can do this by using f-Strings\n",
        "\n",
        "name = \"Fluffy\"\n",
        "age = 4\n",
        "\n",
        "# Even though both sentences are the same, it is better to use f-Strings when inserting variables into Strings\n",
        "old_sentence = \"My cat's name is \" + name + \" and she is \" + str(age) + \" years old.\"\n",
        "print(old_sentence)\n",
        "new_sentence = f\"My cat's name is {name} and she is {age} years old.\"\n",
        "print(new_sentence)"
      ],
      "metadata": {
        "colab": {
          "base_uri": "https://localhost:8080/"
        },
        "id": "7Anw8u3Clk7q",
        "outputId": "01b9df95-af98-4848-be50-ba7510141d89"
      },
      "execution_count": null,
      "outputs": [
        {
          "output_type": "stream",
          "name": "stdout",
          "text": [
            "My cat's name is Fluffy and she is 4 years old.\n",
            "My cat's name is Fluffy and she is 4 years old.\n"
          ]
        }
      ]
    },
    {
      "cell_type": "markdown",
      "source": [
        "# **Data Type 4 -> Booleans**"
      ],
      "metadata": {
        "id": "1BY0MMySZQd6"
      }
    },
    {
      "cell_type": "code",
      "source": [
        "# What is a Boolean?\n",
        "# Booleans is a logical data type that can only have the values of True or False.\n",
        "\n",
        "# Here are some examples \n",
        "print(True)\n",
        "print(type(True))\n",
        "print(False)\n",
        "print(type(False))"
      ],
      "metadata": {
        "id": "VqQ2fZPFcrHJ",
        "colab": {
          "base_uri": "https://localhost:8080/"
        },
        "outputId": "da58d7d7-a749-4b76-993d-c5d3a25662db"
      },
      "execution_count": null,
      "outputs": [
        {
          "output_type": "stream",
          "name": "stdout",
          "text": [
            "True\n",
            "<class 'bool'>\n",
            "False\n",
            "<class 'bool'>\n"
          ]
        }
      ]
    },
    {
      "cell_type": "code",
      "source": [
        "# Boolean Expressions are evaluated to be either True or False using Comparison Operators\n",
        "\n",
        "# Equal operator\n",
        "print(1 == 1)\n",
        "\n",
        "# Not Equal operator\n",
        "print(1 != 1)\n",
        "\n",
        "# Greater than operator\n",
        "print(1 > 1)\n",
        "\n",
        "# Less than operator\n",
        "print(1 < 1)\n",
        "\n",
        "# Greater than or equal to operator\n",
        "print(1 >= 1)\n",
        "\n",
        "# Less than or equal to operator\n",
        "print(1 <= 1)"
      ],
      "metadata": {
        "colab": {
          "base_uri": "https://localhost:8080/"
        },
        "id": "7jDLaBQFZWt2",
        "outputId": "43ef1f50-c602-4d59-9de2-8548b00e0ab9"
      },
      "execution_count": null,
      "outputs": [
        {
          "output_type": "stream",
          "name": "stdout",
          "text": [
            "True\n",
            "False\n",
            "False\n",
            "False\n",
            "True\n",
            "True\n"
          ]
        }
      ]
    },
    {
      "cell_type": "code",
      "source": [
        "# You can also use Logical Operators to combine conditional statements\n",
        "\n",
        "# And operator\n",
        "print('And operator examples:')\n",
        "print(True and True) # -> True\n",
        "print(True and False) # -> False\n",
        "print(False and False) # -> False\n",
        "\n",
        "# Or operator\n",
        "print('\\nOr operator examples:')\n",
        "print(True or True) # -> True\n",
        "print(True or False) # -> True\n",
        "print(False or False) # -> False\n",
        "\n",
        "# Not operator\n",
        "print('\\nNot operator examples:')\n",
        "print(not True) # -> False\n",
        "print(not False) # -> True"
      ],
      "metadata": {
        "colab": {
          "base_uri": "https://localhost:8080/"
        },
        "id": "uo0UET22aHZ5",
        "outputId": "242dbecd-499f-417a-a04c-98eef1e744a4"
      },
      "execution_count": null,
      "outputs": [
        {
          "output_type": "stream",
          "name": "stdout",
          "text": [
            "And operator examples:\n",
            "True\n",
            "False\n",
            "False\n",
            "\n",
            "Or operator examples:\n",
            "True\n",
            "True\n",
            "False\n",
            "\n",
            "Not operator examples:\n",
            "False\n",
            "True\n"
          ]
        }
      ]
    },
    {
      "cell_type": "markdown",
      "source": [
        "# **If Statements**"
      ],
      "metadata": {
        "id": "QLVpBdG4cU8a"
      }
    },
    {
      "cell_type": "code",
      "source": [
        "# Boolean expressions can be used in conditional statements called If statements\n",
        "\n",
        "if 1 == 1:\n",
        "  print(\"This statement is true!\")"
      ],
      "metadata": {
        "colab": {
          "base_uri": "https://localhost:8080/"
        },
        "id": "XprXK0fcclF2",
        "outputId": "988858a6-dc7e-4471-d936-eef78d932837"
      },
      "execution_count": null,
      "outputs": [
        {
          "output_type": "stream",
          "name": "stdout",
          "text": [
            "This statement is true!\n"
          ]
        }
      ]
    },
    {
      "cell_type": "code",
      "source": [
        "# Since the condition isn't met, it will not print the desired output\n",
        "\n",
        "if 1 != 1:\n",
        "  print(\"This statement is true!\")"
      ],
      "metadata": {
        "id": "LaC8bJp6bnM0"
      },
      "execution_count": null,
      "outputs": []
    },
    {
      "cell_type": "code",
      "source": [
        "# The else keyword is an optional statement that catches anything which isn't caught by the preceding conditions.\n",
        "\n",
        "if 1 == 1:\n",
        "  print(\"This statement is true!\")\n",
        "else:\n",
        "  print(\"This statement is false!\")"
      ],
      "metadata": {
        "colab": {
          "base_uri": "https://localhost:8080/"
        },
        "id": "jNVqHqIVdD6W",
        "outputId": "2dd448a5-5e25-4976-9d02-2d58af4bf6a2"
      },
      "execution_count": null,
      "outputs": [
        {
          "output_type": "stream",
          "name": "stdout",
          "text": [
            "This statement is true!\n"
          ]
        }
      ]
    },
    {
      "cell_type": "markdown",
      "source": [
        "# **If-Else Statements**"
      ],
      "metadata": {
        "id": "CXeLTQuzhrWx"
      }
    },
    {
      "cell_type": "code",
      "source": [
        "# Since 1 is equal to 1, python ignores the first condition and goes to else.\n",
        "\n",
        "if 1 != 1:\n",
        "  print(\"This statement is true!\")\n",
        "else:\n",
        "  print(\"This statement is false!\")"
      ],
      "metadata": {
        "colab": {
          "base_uri": "https://localhost:8080/"
        },
        "id": "-h2UQ7Nkdd-X",
        "outputId": "b0fc9d36-be4b-45e6-939b-36b8ec56cf22"
      },
      "execution_count": null,
      "outputs": [
        {
          "output_type": "stream",
          "name": "stdout",
          "text": [
            "This statement is false!\n"
          ]
        }
      ]
    },
    {
      "cell_type": "markdown",
      "source": [
        "# **If-Elif-Else Statements**"
      ],
      "metadata": {
        "id": "nmvZV0-JoVf2"
      }
    },
    {
      "cell_type": "code",
      "source": [
        "# What happens if you wanna test multiple conditions?\n",
        "\n",
        "if \"Cat\" == \"Dog\":\n",
        "  print(\"Cat == Dog\")\n",
        "elif \"Cat\" == \"Bird\":\n",
        "  print(\"Cat == Bird\")\n",
        "elif \"Cat\" == \"Chicken\":\n",
        "  print(\"Cat == Chicken\")\n",
        "else:\n",
        "  print(\"Cat doesn't equal to Dog, Bird, nor Chicken.\")"
      ],
      "metadata": {
        "colab": {
          "base_uri": "https://localhost:8080/"
        },
        "id": "-iYd0H-Qdi0e",
        "outputId": "5c11d448-0f4f-4b87-ea5f-7fa8e953a17b"
      },
      "execution_count": null,
      "outputs": [
        {
          "output_type": "stream",
          "name": "stdout",
          "text": [
            "Cat doesn't equal to Dog, Bird, nor Chicken.\n"
          ]
        }
      ]
    },
    {
      "cell_type": "markdown",
      "source": [
        "# **Variables (In-Depth)**"
      ],
      "metadata": {
        "id": "S-ITqQW9r4W1"
      }
    },
    {
      "cell_type": "code",
      "source": [
        "'''\n",
        "Can be any type (Float, string, int, etc.)\n",
        "\n",
        "The left side is the variable and the right side is the value we want to assign to the variable.\n",
        "\n",
        "Rules of variables \n",
        "1. Don't make variables keywords (ex. if, else, return, True, etc) You can look up list of python keywords for more examples.\n",
        "\n",
        "2. Your variable name must start with a letter from a-z, A-Z, or an underscore character. (NO numbers in the beginning of your variable name)\n",
        "\n",
        "3. Make variable names that make sense with what's being assigned to them (ex. BondPrice, CapRate) \n",
        "\n",
        "4. Variables are case sensitive (Apple is NOT the same as apple)\n",
        "\n",
        "5. A variable name CANNOT contain spaces \n",
        "'''"
      ],
      "metadata": {
        "id": "aLXTfSvwpsZI"
      },
      "execution_count": null,
      "outputs": []
    },
    {
      "cell_type": "code",
      "source": [
        "# Example of initializing a variable\n",
        "color = \"red\"\n",
        "\n",
        "print(color)\n",
        "print(type(color))"
      ],
      "metadata": {
        "colab": {
          "base_uri": "https://localhost:8080/"
        },
        "id": "XM_lZ6Cyr-cX",
        "outputId": "7bdee75b-7e22-4123-93f2-34f66d11472f"
      },
      "execution_count": null,
      "outputs": [
        {
          "output_type": "stream",
          "name": "stdout",
          "text": [
            "red\n",
            "<class 'str'>\n"
          ]
        }
      ]
    },
    {
      "cell_type": "code",
      "source": [
        "# Example of redefining a variable\n",
        "color = \"blue\"\n",
        "\n",
        "print(color)\n",
        "print(type(color))"
      ],
      "metadata": {
        "colab": {
          "base_uri": "https://localhost:8080/"
        },
        "id": "hdv2gd2IsYnf",
        "outputId": "9b7406b4-c7a8-44c1-c949-7b9b6db668cd"
      },
      "execution_count": null,
      "outputs": [
        {
          "output_type": "stream",
          "name": "stdout",
          "text": [
            "blue\n",
            "<class 'str'>\n"
          ]
        }
      ]
    },
    {
      "cell_type": "code",
      "source": [
        "# What NOT to do when redefining a variable\n",
        "# Even though Python allows you to do this, this is not advised because it may lead to more problems in the future\n",
        "color = 25\n",
        "\n",
        "print(color)\n",
        "print(type(color))"
      ],
      "metadata": {
        "colab": {
          "base_uri": "https://localhost:8080/"
        },
        "id": "eDqnvuWSshSf",
        "outputId": "e574e78e-f6d6-44e0-9f8a-ee51fa153723"
      },
      "execution_count": null,
      "outputs": [
        {
          "output_type": "stream",
          "name": "stdout",
          "text": [
            "25\n",
            "<class 'int'>\n"
          ]
        }
      ]
    },
    {
      "cell_type": "code",
      "source": [
        "# If you want to change one data type to another, we can use casting methods\n",
        "\n",
        "oranges = 5\n",
        "print(oranges, type(oranges))\n",
        "\n",
        "oranges = float(5)\n",
        "print(oranges, type(oranges))\n",
        "\n",
        "oranges = str(5)\n",
        "print(oranges, type(oranges))\n",
        "\n",
        "oranges = bool(5) # The reason why this returns True is because it is not a value that equates to 0, such as None or 0 or \"\"\n",
        "print(oranges, type(oranges))"
      ],
      "metadata": {
        "colab": {
          "base_uri": "https://localhost:8080/"
        },
        "id": "mCfQzfqwsnrL",
        "outputId": "b47e521a-3d51-432f-94fa-6a9623f3abb5"
      },
      "execution_count": null,
      "outputs": [
        {
          "output_type": "stream",
          "name": "stdout",
          "text": [
            "5 <class 'int'>\n",
            "5.0 <class 'float'>\n",
            "5 <class 'str'>\n",
            "True <class 'bool'>\n"
          ]
        }
      ]
    },
    {
      "cell_type": "code",
      "source": [
        "# Testing None, 0, and \"\"\n",
        "\n",
        "oranges = bool(None)\n",
        "print(oranges, type(oranges))\n",
        "\n",
        "oranges = bool(0)\n",
        "print(oranges, type(oranges))\n",
        "\n",
        "oranges = bool(\"\")\n",
        "print(oranges, type(oranges))"
      ],
      "metadata": {
        "colab": {
          "base_uri": "https://localhost:8080/"
        },
        "id": "cGfQEYGNtPG5",
        "outputId": "8290a05a-ca4d-49c5-d5d7-6f9593132060"
      },
      "execution_count": null,
      "outputs": [
        {
          "output_type": "stream",
          "name": "stdout",
          "text": [
            "False <class 'bool'>\n",
            "False <class 'bool'>\n",
            "False <class 'bool'>\n"
          ]
        }
      ]
    },
    {
      "cell_type": "code",
      "source": [
        "# Casting does NOT work for conversions\n",
        "\n",
        "# String -> Integer\n",
        "print(int(\"Hello\"))"
      ],
      "metadata": {
        "colab": {
          "base_uri": "https://localhost:8080/",
          "height": 200
        },
        "id": "s91SyaGguJRI",
        "outputId": "fcb8c8d6-d14d-4c76-f9f8-5f62e86e2138"
      },
      "execution_count": null,
      "outputs": [
        {
          "output_type": "error",
          "ename": "ValueError",
          "evalue": "ignored",
          "traceback": [
            "\u001b[0;31m---------------------------------------------------------------------------\u001b[0m",
            "\u001b[0;31mValueError\u001b[0m                                Traceback (most recent call last)",
            "\u001b[0;32m<ipython-input-68-5d22181546d3>\u001b[0m in \u001b[0;36m<module>\u001b[0;34m\u001b[0m\n\u001b[1;32m      2\u001b[0m \u001b[0;34m\u001b[0m\u001b[0m\n\u001b[1;32m      3\u001b[0m \u001b[0;31m# String -> Integer\u001b[0m\u001b[0;34m\u001b[0m\u001b[0;34m\u001b[0m\u001b[0;34m\u001b[0m\u001b[0m\n\u001b[0;32m----> 4\u001b[0;31m \u001b[0mprint\u001b[0m\u001b[0;34m(\u001b[0m\u001b[0mint\u001b[0m\u001b[0;34m(\u001b[0m\u001b[0;34m\"Hello\"\u001b[0m\u001b[0;34m)\u001b[0m\u001b[0;34m)\u001b[0m\u001b[0;34m\u001b[0m\u001b[0;34m\u001b[0m\u001b[0m\n\u001b[0m",
            "\u001b[0;31mValueError\u001b[0m: invalid literal for int() with base 10: 'Hello'"
          ]
        }
      ]
    },
    {
      "cell_type": "code",
      "source": [
        "# String -> Float\n",
        "print(float(\"Hello\"))"
      ],
      "metadata": {
        "colab": {
          "base_uri": "https://localhost:8080/",
          "height": 183
        },
        "id": "Bf3pxG5wuVje",
        "outputId": "8c9a4a01-f74a-4b5e-e5b6-e834fef7172b"
      },
      "execution_count": null,
      "outputs": [
        {
          "output_type": "error",
          "ename": "ValueError",
          "evalue": "ignored",
          "traceback": [
            "\u001b[0;31m---------------------------------------------------------------------------\u001b[0m",
            "\u001b[0;31mValueError\u001b[0m                                Traceback (most recent call last)",
            "\u001b[0;32m<ipython-input-67-7e06be2779bd>\u001b[0m in \u001b[0;36m<module>\u001b[0;34m\u001b[0m\n\u001b[1;32m      1\u001b[0m \u001b[0;31m# String -> Float\u001b[0m\u001b[0;34m\u001b[0m\u001b[0;34m\u001b[0m\u001b[0;34m\u001b[0m\u001b[0m\n\u001b[0;32m----> 2\u001b[0;31m \u001b[0mprint\u001b[0m\u001b[0;34m(\u001b[0m\u001b[0mfloat\u001b[0m\u001b[0;34m(\u001b[0m\u001b[0;34m\"Hello\"\u001b[0m\u001b[0;34m)\u001b[0m\u001b[0;34m)\u001b[0m\u001b[0;34m\u001b[0m\u001b[0;34m\u001b[0m\u001b[0m\n\u001b[0m",
            "\u001b[0;31mValueError\u001b[0m: could not convert string to float: 'Hello'"
          ]
        }
      ]
    },
    {
      "cell_type": "code",
      "source": [
        "# Unless the string itself represents the desired data type\n",
        "\n",
        "x = int(\"42\")\n",
        "print(x, type(x))\n",
        "\n",
        "x = float(\"37.45\")\n",
        "print(x, type(x))"
      ],
      "metadata": {
        "colab": {
          "base_uri": "https://localhost:8080/"
        },
        "id": "SCCWXKnxujKc",
        "outputId": "88e194e4-10ef-406f-81d4-c5c1189a12e5"
      },
      "execution_count": null,
      "outputs": [
        {
          "output_type": "stream",
          "name": "stdout",
          "text": [
            "42 <class 'int'>\n",
            "37.45 <class 'float'>\n"
          ]
        }
      ]
    },
    {
      "cell_type": "markdown",
      "source": [
        "# **Input and Print Function**"
      ],
      "metadata": {
        "id": "Dk7L8twW8tz1"
      }
    },
    {
      "cell_type": "code",
      "source": [
        "# Input functions allows a user to input information into our program. \n",
        "\n",
        "input(\"Enter your first and last name: \")"
      ],
      "metadata": {
        "id": "fwsEvDHFumTB",
        "colab": {
          "base_uri": "https://localhost:8080/",
          "height": 53
        },
        "outputId": "62ddfd9b-b563-487f-e36c-8e7d3caef140"
      },
      "execution_count": null,
      "outputs": [
        {
          "name": "stdout",
          "output_type": "stream",
          "text": [
            "Enter your first and last name: Efaz Ahmed\n"
          ]
        },
        {
          "output_type": "execute_result",
          "data": {
            "text/plain": [
              "'Efaz Ahmed'"
            ],
            "application/vnd.google.colaboratory.intrinsic+json": {
              "type": "string"
            }
          },
          "metadata": {},
          "execution_count": 72
        }
      ]
    },
    {
      "cell_type": "code",
      "source": [
        "# We'll be able take this information, assign it to a variable, and then do something with that variable.\n",
        "\n",
        "name = input(\"Enter your first and last name: \")\n",
        "print(\"Hi, my name is \" + name + \"!\")"
      ],
      "metadata": {
        "colab": {
          "base_uri": "https://localhost:8080/"
        },
        "id": "KQ9XpvbP82aA",
        "outputId": "dbabf5a7-52d2-40e3-e672-47e8159dc9a7"
      },
      "execution_count": null,
      "outputs": [
        {
          "output_type": "stream",
          "name": "stdout",
          "text": [
            "Enter your first and last name: Efaz Ahmed\n",
            "Hi, my name is Efaz Ahmed!\n"
          ]
        }
      ]
    },
    {
      "cell_type": "code",
      "source": [
        "'''The print statement above uses concatenation to combine the elements. \n",
        "NOTE: You can only concatenate a string with another string. \n",
        "For example, if I want to combine a variable that holds an integer with a string, it will give me an error. '''\n",
        "\n",
        "print(\"The current year is \" + 2022)"
      ],
      "metadata": {
        "colab": {
          "base_uri": "https://localhost:8080/",
          "height": 200
        },
        "id": "vkbhWORt8-pW",
        "outputId": "5aa69e07-7afc-4c66-d373-a5b5a8b9f999"
      },
      "execution_count": null,
      "outputs": [
        {
          "output_type": "error",
          "ename": "TypeError",
          "evalue": "ignored",
          "traceback": [
            "\u001b[0;31m---------------------------------------------------------------------------\u001b[0m",
            "\u001b[0;31mTypeError\u001b[0m                                 Traceback (most recent call last)",
            "\u001b[0;32m<ipython-input-78-3191820d1255>\u001b[0m in \u001b[0;36m<module>\u001b[0;34m\u001b[0m\n\u001b[1;32m      3\u001b[0m For example, if I want to combine a variable that holds an integer with a string, it will give me an error. '''\n\u001b[1;32m      4\u001b[0m \u001b[0;34m\u001b[0m\u001b[0m\n\u001b[0;32m----> 5\u001b[0;31m \u001b[0mprint\u001b[0m\u001b[0;34m(\u001b[0m\u001b[0;34m\"The current year is \"\u001b[0m \u001b[0;34m+\u001b[0m \u001b[0;36m2022\u001b[0m\u001b[0;34m)\u001b[0m\u001b[0;34m\u001b[0m\u001b[0;34m\u001b[0m\u001b[0m\n\u001b[0m",
            "\u001b[0;31mTypeError\u001b[0m: can only concatenate str (not \"int\") to str"
          ]
        }
      ]
    },
    {
      "cell_type": "code",
      "source": [
        "# You can get around this by turning the element into a string. \n",
        "\n",
        "print(\"The current year is \" + str(2022))"
      ],
      "metadata": {
        "colab": {
          "base_uri": "https://localhost:8080/"
        },
        "id": "dVf8yXLE9EJI",
        "outputId": "1d4d0fdc-5a11-4bc6-f6c6-ebfe2a67cba8"
      },
      "execution_count": null,
      "outputs": [
        {
          "output_type": "stream",
          "name": "stdout",
          "text": [
            "The current year is 2022\n"
          ]
        }
      ]
    },
    {
      "cell_type": "code",
      "source": [
        "# If you don't want to use the + operator, you can change the print function's parameters\n",
        "\n",
        "college = \"Baruch College\"\n",
        "print(college, \"is the best CUNY!\")"
      ],
      "metadata": {
        "colab": {
          "base_uri": "https://localhost:8080/"
        },
        "id": "sdZG3pOm9GFN",
        "outputId": "5a39096f-d9ad-453e-c310-e1a7c68f8cb0"
      },
      "execution_count": null,
      "outputs": [
        {
          "output_type": "stream",
          "name": "stdout",
          "text": [
            "Baruch College is the best CUNY!\n"
          ]
        }
      ]
    },
    {
      "cell_type": "code",
      "source": [
        "# You can also use the 'sep' parameter to change how to separate each value\n",
        "\n",
        "print(1, 2, 3, 4, 5, 6, 7, 8, 9, 10)\n",
        "print(1, 2, 3, 4, 5, 6, 7, 8, 9, 10, sep=\", \")\n",
        "print(1, 2, 3, 4, 5, 6, 7, 8, 9, 10, sep=\" -> \")"
      ],
      "metadata": {
        "colab": {
          "base_uri": "https://localhost:8080/"
        },
        "id": "xnKDRtsV9zBm",
        "outputId": "517ffaa3-f336-47e1-d1f0-c2c1762a1b28"
      },
      "execution_count": null,
      "outputs": [
        {
          "output_type": "stream",
          "name": "stdout",
          "text": [
            "1 2 3 4 5 6 7 8 9 10\n",
            "1, 2, 3, 4, 5, 6, 7, 8, 9, 10\n",
            "1 -> 2 -> 3 -> 4 -> 5 -> 6 -> 7 -> 8 -> 9 -> 10\n"
          ]
        }
      ]
    },
    {
      "cell_type": "code",
      "source": [
        "# There are many other cool things you can do with the print function\n",
        "# You can use this to see the other parameters if you're interested\n",
        "\n",
        "help(print)"
      ],
      "metadata": {
        "colab": {
          "base_uri": "https://localhost:8080/"
        },
        "id": "15B5nPNt-HCK",
        "outputId": "eb6ea353-6e46-47c0-a40f-0d5174d55dea"
      },
      "execution_count": null,
      "outputs": [
        {
          "output_type": "stream",
          "name": "stdout",
          "text": [
            "Help on built-in function print in module builtins:\n",
            "\n",
            "print(...)\n",
            "    print(value, ..., sep=' ', end='\\n', file=sys.stdout, flush=False)\n",
            "    \n",
            "    Prints the values to a stream, or to sys.stdout by default.\n",
            "    Optional keyword arguments:\n",
            "    file:  a file-like object (stream); defaults to the current sys.stdout.\n",
            "    sep:   string inserted between values, default a space.\n",
            "    end:   string appended after the last value, default a newline.\n",
            "    flush: whether to forcibly flush the stream.\n",
            "\n"
          ]
        }
      ]
    },
    {
      "cell_type": "markdown",
      "source": [
        "# **Data Structure 1 -> Lists**"
      ],
      "metadata": {
        "id": "aLexPLvf-n8L"
      }
    },
    {
      "cell_type": "code",
      "source": [
        "# What is a list?\n",
        "# A list is a mutable data stucture that is used to store collections of data and is ordered using indicies\n",
        "# We use the [] notation to create a list\n",
        "\n",
        "characters = [\"Spongebob\", \"Patrick\", \"Sandy\", \"Squidward\", \"Plankton\", \"Mr.Krabs\"]\n",
        "print(type(characters))"
      ],
      "metadata": {
        "colab": {
          "base_uri": "https://localhost:8080/"
        },
        "id": "Ult4KKba-bJt",
        "outputId": "40fb378d-3bbe-43e5-c615-1af893c6b128"
      },
      "execution_count": null,
      "outputs": [
        {
          "output_type": "stream",
          "name": "stdout",
          "text": [
            "<class 'list'>\n"
          ]
        }
      ]
    },
    {
      "cell_type": "code",
      "source": [
        "# Lists don't need to contain the same types of data\n",
        "\n",
        "unknown = [\"Spongebob\", 1234, True]"
      ],
      "metadata": {
        "id": "VG7LWQHj_19w"
      },
      "execution_count": null,
      "outputs": []
    },
    {
      "cell_type": "code",
      "source": [
        "# Let's print out our characters and see what we get!\n",
        "\n",
        "print(characters)\n",
        "print(type(characters))"
      ],
      "metadata": {
        "colab": {
          "base_uri": "https://localhost:8080/"
        },
        "id": "EedMRPjm_-CQ",
        "outputId": "6702b35f-d785-42ee-d2ab-c3259edda0d8"
      },
      "execution_count": null,
      "outputs": [
        {
          "output_type": "stream",
          "name": "stdout",
          "text": [
            "['Spongebob', 'Patrick', 'Sandy', 'Squidward', 'Plankton', 'Mr.Krabs']\n",
            "<class 'list'>\n"
          ]
        }
      ]
    },
    {
      "cell_type": "code",
      "source": [
        "# Since lists are ordered using indicies, we can access elements in the list using them\n",
        "# What are indicies?\n",
        "\n",
        "#           -5   -4   -3   -2   -1                 \n",
        "#            0    1    2    3    4\n",
        "alphabet = [\"a\", \"b\", \"c\", \"d\", \"e\"]\n",
        "\n",
        "print(alphabet[0], alphabet[4])\n",
        "print(alphabet[-5], alphabet[-1])"
      ],
      "metadata": {
        "colab": {
          "base_uri": "https://localhost:8080/"
        },
        "id": "_MzjbUQVACh0",
        "outputId": "eb11ed9b-ec08-4e39-985b-bc1e6024fa68"
      },
      "execution_count": null,
      "outputs": [
        {
          "output_type": "stream",
          "name": "stdout",
          "text": [
            "a e\n",
            "a e\n"
          ]
        }
      ]
    },
    {
      "cell_type": "code",
      "source": [
        "# Let's bring back our characters and see what we can get!\n",
        "\n",
        "characters = [\"Spongebob\", \"Patrick\", \"Sandy\", \"Squidward\", \"Plankton\", \"Mr.Krabs\"]\n",
        "\n",
        "print(characters)\n",
        "print(characters[0])\n",
        "print(characters[4])\n",
        "print(characters[-1])"
      ],
      "metadata": {
        "colab": {
          "base_uri": "https://localhost:8080/"
        },
        "id": "bHD_maBpAoZF",
        "outputId": "04687041-2650-4d54-8f5d-594541280642"
      },
      "execution_count": null,
      "outputs": [
        {
          "output_type": "stream",
          "name": "stdout",
          "text": [
            "['Spongebob', 'Patrick', 'Sandy', 'Squidward', 'Plankton', 'Mr.Krabs']\n",
            "Spongebob\n",
            "Plankton\n",
            "Mr.Krabs\n"
          ]
        }
      ]
    },
    {
      "cell_type": "code",
      "source": [
        "'''Another way we can access elements is through slicing. We can achieve this by using a colon (:). \n",
        "There is a special case we MUST make note of when slicing lists, the index number we put after the colon.  \n",
        "When slicing, python will grab all the elements up to but NOT including the index after the colon.\n",
        "For example: '''\n",
        "\n",
        "characters = [\"Spongebob\", \"Patrick\", \"Sandy\", \"Squidward\", \"Plankton\", \"Mr.Krabs\"]\n",
        "\n",
        "print(characters[1:5])"
      ],
      "metadata": {
        "colab": {
          "base_uri": "https://localhost:8080/"
        },
        "id": "qvi3vnhPBWeS",
        "outputId": "2da315d6-4760-4251-b07d-bb2a8bf1aa8f"
      },
      "execution_count": null,
      "outputs": [
        {
          "output_type": "stream",
          "name": "stdout",
          "text": [
            "['Patrick', 'Sandy', 'Squidward', 'Plankton']\n"
          ]
        }
      ]
    },
    {
      "cell_type": "code",
      "source": [
        "# If we only have a colon within the slicing notation, we will get a copy of the entire list\n",
        "\n",
        "characters = [\"Spongebob\", \"Patrick\", \"Sandy\", \"Squidward\", \"Plankton\", \"Mr.Krabs\"]\n",
        "\n",
        "print(characters[:])"
      ],
      "metadata": {
        "colab": {
          "base_uri": "https://localhost:8080/"
        },
        "id": "9Vt_hgaZBola",
        "outputId": "38465fcb-b78b-4b84-fb6f-4d979d197706"
      },
      "execution_count": null,
      "outputs": [
        {
          "output_type": "stream",
          "name": "stdout",
          "text": [
            "['Spongebob', 'Patrick', 'Sandy', 'Squidward', 'Plankton', 'Mr.Krabs']\n"
          ]
        }
      ]
    },
    {
      "cell_type": "code",
      "source": [
        "# If I wanted to get all characters from Patrick and the elements after, we can specify only the left bound\n",
        "\n",
        "characters = [\"Spongebob\", \"Patrick\", \"Sandy\", \"Squidward\", \"Plankton\", \"Mr.Krabs\"]\n",
        "\n",
        "print(characters[1:])"
      ],
      "metadata": {
        "colab": {
          "base_uri": "https://localhost:8080/"
        },
        "id": "zPGbHdvFCIhh",
        "outputId": "30719fd3-df36-4857-bc8b-4afb37617185"
      },
      "execution_count": null,
      "outputs": [
        {
          "output_type": "stream",
          "name": "stdout",
          "text": [
            "['Patrick', 'Sandy', 'Squidward', 'Plankton', 'Mr.Krabs']\n"
          ]
        }
      ]
    },
    {
      "cell_type": "code",
      "source": [
        "# If I wanted all of the characters before Sandy, I can specify only the right bound\n",
        "\n",
        "characters = [\"Spongebob\", \"Patrick\", \"Sandy\", \"Squidward\", \"Plankton\", \"Mr.Krabs\"]\n",
        "\n",
        "print(characters[:2])"
      ],
      "metadata": {
        "colab": {
          "base_uri": "https://localhost:8080/"
        },
        "id": "UUMAQE3JCU6i",
        "outputId": "79b75102-f648-4f86-bfb8-f485eae2e5dc"
      },
      "execution_count": null,
      "outputs": [
        {
          "output_type": "stream",
          "name": "stdout",
          "text": [
            "['Spongebob', 'Patrick']\n"
          ]
        }
      ]
    },
    {
      "cell_type": "code",
      "source": [
        "# There is a third parameter to slicing that exists that allows you to skip elements\n",
        "\n",
        "characters = [\"Spongebob\", \"Patrick\", \"Sandy\", \"Squidward\", \"Plankton\", \"Mr.Krabs\"]\n",
        "\n",
        "print(characters[:])\n",
        "print(characters[::2])"
      ],
      "metadata": {
        "colab": {
          "base_uri": "https://localhost:8080/"
        },
        "id": "o00vHbNICf3s",
        "outputId": "564fb25f-fcdc-4ce9-a099-c0a71438a0d9"
      },
      "execution_count": null,
      "outputs": [
        {
          "output_type": "stream",
          "name": "stdout",
          "text": [
            "['Spongebob', 'Patrick', 'Sandy', 'Squidward', 'Plankton', 'Mr.Krabs']\n",
            "['Spongebob', 'Sandy', 'Plankton']\n"
          ]
        }
      ]
    },
    {
      "cell_type": "code",
      "source": [
        "# Lists are really good to use because they are mutable, which means you can change the data within them\n",
        "\n",
        "characters = [\"Spongebob\", \"Patrick\", \"Sandy\", \"Squidward\", \"Plankton\", \"Mr.Krabs\"]\n",
        "print(\"Before:\", characters)\n",
        "\n",
        "# Gary eats plankton\n",
        "characters[4] = \"Gary\"\n",
        "print(\"After: \", characters)"
      ],
      "metadata": {
        "colab": {
          "base_uri": "https://localhost:8080/"
        },
        "id": "kIrEdxDmCvBW",
        "outputId": "6d945fe2-a75b-402a-e7f5-a3677c494906"
      },
      "execution_count": null,
      "outputs": [
        {
          "output_type": "stream",
          "name": "stdout",
          "text": [
            "Before: ['Spongebob', 'Patrick', 'Sandy', 'Squidward', 'Plankton', 'Mr.Krabs']\n",
            "After:  ['Spongebob', 'Patrick', 'Sandy', 'Squidward', 'Gary', 'Mr.Krabs']\n"
          ]
        }
      ]
    },
    {
      "cell_type": "markdown",
      "source": [
        "# **Methods -> Lists**"
      ],
      "metadata": {
        "id": "Uc7umBHpDiQ6"
      }
    },
    {
      "cell_type": "code",
      "source": [
        "# Lists methods are methods that are built-in that usable for all lists\n",
        "\n",
        "characters = [\"Spongebob\", \"Patrick\", \"Sandy\", \"Squidward\", \"Plankton\", \"Mr.Krabs\"]\n",
        "print(characters)"
      ],
      "metadata": {
        "colab": {
          "base_uri": "https://localhost:8080/"
        },
        "id": "YT0ZqfnpDRZn",
        "outputId": "134cfd1e-6ae9-446c-aab5-25c75c90d065"
      },
      "execution_count": null,
      "outputs": [
        {
          "output_type": "stream",
          "name": "stdout",
          "text": [
            "['Spongebob', 'Patrick', 'Sandy', 'Squidward', 'Plankton', 'Mr.Krabs']\n"
          ]
        }
      ]
    },
    {
      "cell_type": "code",
      "source": [
        "# Append Method -> allows you to add an element at the end of the list\n",
        "\n",
        "characters = [\"Spongebob\", \"Patrick\", \"Sandy\", \"Squidward\", \"Plankton\", \"Mr.Krabs\"]\n",
        "print(\"Before:\", characters)\n",
        "\n",
        "characters.append(\"Larry\")\n",
        "print(\"After:\", characters)"
      ],
      "metadata": {
        "colab": {
          "base_uri": "https://localhost:8080/"
        },
        "id": "9U3GsHP8DlUq",
        "outputId": "e83d9fc4-bf61-4541-be08-64efff54de40"
      },
      "execution_count": null,
      "outputs": [
        {
          "output_type": "stream",
          "name": "stdout",
          "text": [
            "Before: ['Spongebob', 'Patrick', 'Sandy', 'Squidward', 'Plankton', 'Mr.Krabs']\n",
            "After: ['Spongebob', 'Patrick', 'Sandy', 'Squidward', 'Plankton', 'Mr.Krabs', 'Larry']\n"
          ]
        }
      ]
    },
    {
      "cell_type": "code",
      "source": [
        "# Pop method -> allows you to remove the element at a specified index\n",
        "\n",
        "characters = [\"Spongebob\", \"Patrick\", \"Sandy\", \"Squidward\", \"Plankton\", \"Mr.Krabs\"]\n",
        "print(\"Before:\", characters)\n",
        "\n",
        "popped = characters.pop(4)\n",
        "print(\"After:\", characters)\n",
        "print(popped)"
      ],
      "metadata": {
        "colab": {
          "base_uri": "https://localhost:8080/"
        },
        "id": "0LJcxllIERRQ",
        "outputId": "09196628-a0e3-4eeb-c90c-c531495096fb"
      },
      "execution_count": null,
      "outputs": [
        {
          "output_type": "stream",
          "name": "stdout",
          "text": [
            "Before: ['Spongebob', 'Patrick', 'Sandy', 'Squidward', 'Plankton', 'Mr.Krabs']\n",
            "After: ['Spongebob', 'Patrick', 'Sandy', 'Squidward', 'Mr.Krabs']\n",
            "Plankton\n"
          ]
        }
      ]
    },
    {
      "cell_type": "code",
      "source": [
        "# Index method -> allows you to find the index of a specified element in the list\n",
        "\n",
        "characters = [\"Spongebob\", \"Patrick\", \"Sandy\", \"Squidward\", \"Plankton\", \"Mr.Krabs\"]\n",
        "print(characters)\n",
        "\n",
        "location = characters.index(\"Patrick\")\n",
        "print(location)"
      ],
      "metadata": {
        "colab": {
          "base_uri": "https://localhost:8080/"
        },
        "id": "Se5gikOJEg3o",
        "outputId": "4bf69368-7ea0-4a84-adc4-b4eb990723ac"
      },
      "execution_count": null,
      "outputs": [
        {
          "output_type": "stream",
          "name": "stdout",
          "text": [
            "['Spongebob', 'Patrick', 'Sandy', 'Squidward', 'Plankton', 'Mr.Krabs']\n",
            "1\n"
          ]
        }
      ]
    },
    {
      "cell_type": "code",
      "source": [
        "# Sort method -> allows you to sort the list\n",
        "\n",
        "characters = [\"Spongebob\", \"Patrick\", \"Sandy\", \"Squidward\", \"Plankton\", \"Mr.Krabs\"]\n",
        "print(\"Before:\", characters)\n",
        "\n",
        "characters.sort()\n",
        "print(\"After:\", characters)"
      ],
      "metadata": {
        "colab": {
          "base_uri": "https://localhost:8080/"
        },
        "id": "qWExQLdDExlk",
        "outputId": "87083e98-557b-4e2d-8932-abb7d210ca5c"
      },
      "execution_count": null,
      "outputs": [
        {
          "output_type": "stream",
          "name": "stdout",
          "text": [
            "Before: ['Spongebob', 'Patrick', 'Sandy', 'Squidward', 'Plankton', 'Mr.Krabs']\n",
            "After: ['Mr.Krabs', 'Patrick', 'Plankton', 'Sandy', 'Spongebob', 'Squidward']\n"
          ]
        }
      ]
    },
    {
      "cell_type": "code",
      "source": [
        "# Sorted method -> allows you to sort the list, but doesn't affect the original list\n",
        "\n",
        "characters = [\"Spongebob\", \"Patrick\", \"Sandy\", \"Squidward\", \"Plankton\", \"Mr.Krabs\"]\n",
        "print(\"Before:\", characters)\n",
        "\n",
        "new_characters = sorted(characters)\n",
        "print(\"After:\", characters)\n",
        "print(new_characters)"
      ],
      "metadata": {
        "colab": {
          "base_uri": "https://localhost:8080/"
        },
        "id": "XdrbytytFH4S",
        "outputId": "3c0ca56b-1262-41a2-fdd2-98fd82de8a9c"
      },
      "execution_count": null,
      "outputs": [
        {
          "output_type": "stream",
          "name": "stdout",
          "text": [
            "Before: ['Spongebob', 'Patrick', 'Sandy', 'Squidward', 'Plankton', 'Mr.Krabs']\n",
            "After: ['Spongebob', 'Patrick', 'Sandy', 'Squidward', 'Plankton', 'Mr.Krabs']\n",
            "['Mr.Krabs', 'Patrick', 'Plankton', 'Sandy', 'Spongebob', 'Squidward']\n"
          ]
        }
      ]
    },
    {
      "cell_type": "code",
      "source": [
        "# Reverse method -> allows you to reverse a list\n",
        "\n",
        "characters = [\"Spongebob\", \"Patrick\", \"Sandy\", \"Squidward\", \"Plankton\", \"Mr.Krabs\"]\n",
        "print(\"Before:\", characters)\n",
        "\n",
        "characters.reverse()\n",
        "print(\"After:\", characters)"
      ],
      "metadata": {
        "colab": {
          "base_uri": "https://localhost:8080/"
        },
        "id": "PPYg5JrVFVEz",
        "outputId": "37da5501-50a2-44f7-f810-add1ec3094b5"
      },
      "execution_count": null,
      "outputs": [
        {
          "output_type": "stream",
          "name": "stdout",
          "text": [
            "Before: ['Spongebob', 'Patrick', 'Sandy', 'Squidward', 'Plankton', 'Mr.Krabs']\n",
            "After: ['Mr.Krabs', 'Plankton', 'Squidward', 'Sandy', 'Patrick', 'Spongebob']\n"
          ]
        }
      ]
    },
    {
      "cell_type": "code",
      "source": [
        "# Although this isn't considered a list method, we can also use the + operator to combine lists\n",
        "\n",
        "a = [\"Spongebob\", \"Patrick\", \"Sandy\"]\n",
        "b = [\"Squidward\", \"Plankton\", \"Mr.Krabs\"]\n",
        "\n",
        "print([\"Spongebob\", \"Patrick\", \"Sandy\"] + [\"Squidward\", \"Plankton\", \"Mr.Krabs\"])\n",
        "print(a + b)"
      ],
      "metadata": {
        "colab": {
          "base_uri": "https://localhost:8080/"
        },
        "id": "u1vv-tHPF-XY",
        "outputId": "d539be68-e2d2-48cc-fdf1-64d50d9ffaa9"
      },
      "execution_count": null,
      "outputs": [
        {
          "output_type": "stream",
          "name": "stdout",
          "text": [
            "['Spongebob', 'Patrick', 'Sandy', 'Squidward', 'Plankton', 'Mr.Krabs']\n",
            "['Spongebob', 'Patrick', 'Sandy', 'Squidward', 'Plankton', 'Mr.Krabs']\n"
          ]
        }
      ]
    },
    {
      "cell_type": "code",
      "source": [
        "# There are many other methods for lists but those are the most popular ones\n",
        "# To learn more about list methods, check out this website -> https://www.w3schools.com/python/python_ref_list.asp"
      ],
      "metadata": {
        "id": "22FHL01RFpmu"
      },
      "execution_count": null,
      "outputs": []
    },
    {
      "cell_type": "markdown",
      "source": [
        "# **Data Structure 2 -> Tuples**"
      ],
      "metadata": {
        "id": "qPZV3IO_G2qL"
      }
    },
    {
      "cell_type": "code",
      "source": [
        "# What is a tuple?\n",
        "# A tuple is an immutable data stucture that is used to store collections of data and is ordered using indicies as well\n",
        "# We use the () notation to create a tuple\n",
        "\n",
        "characters = (\"Spongebob\", \"Patrick\", \"Sandy\", \"Squidward\", \"Plankton\", \"Mr.Krabs\")\n",
        "print(characters)"
      ],
      "metadata": {
        "colab": {
          "base_uri": "https://localhost:8080/"
        },
        "id": "co0hq4TBG9wN",
        "outputId": "194435b8-4073-472c-e1fc-6d532cb0e8f9"
      },
      "execution_count": null,
      "outputs": [
        {
          "output_type": "stream",
          "name": "stdout",
          "text": [
            "('Spongebob', 'Patrick', 'Sandy', 'Squidward', 'Plankton', 'Mr.Krabs')\n"
          ]
        }
      ]
    },
    {
      "cell_type": "code",
      "source": [
        "# We can extract data from tuples like we did with lists\n",
        "\n",
        "characters = (\"Spongebob\", \"Patrick\", \"Sandy\", \"Squidward\", \"Plankton\", \"Mr.Krabs\")\n",
        "print(characters[0])\n",
        "print(characters[-1])\n",
        "print(characters[1:3])"
      ],
      "metadata": {
        "colab": {
          "base_uri": "https://localhost:8080/"
        },
        "id": "3GHrQhNgHSOw",
        "outputId": "e56d7dcc-ac3a-46c0-d9ed-50292d3a4aa4"
      },
      "execution_count": null,
      "outputs": [
        {
          "output_type": "stream",
          "name": "stdout",
          "text": [
            "Spongebob\n",
            "Mr.Krabs\n",
            "('Patrick', 'Sandy')\n"
          ]
        }
      ]
    },
    {
      "cell_type": "code",
      "source": [
        "# Tuples are different than lists because they are immutable, which means you CANNOT change the data within them\n",
        "\n",
        "characters = (\"Spongebob\", \"Patrick\", \"Sandy\", \"Squidward\", \"Plankton\", \"Mr.Krabs\")\n",
        "characters[4] = \"Gary\"\n",
        "\n",
        "# Sadly, Gary cannot eat Plankton this time :("
      ],
      "metadata": {
        "colab": {
          "base_uri": "https://localhost:8080/",
          "height": 235
        },
        "id": "m03nan2sHnr3",
        "outputId": "d5b2ddc1-7696-4439-9ce3-1ca50a901c73"
      },
      "execution_count": null,
      "outputs": [
        {
          "output_type": "error",
          "ename": "TypeError",
          "evalue": "ignored",
          "traceback": [
            "\u001b[0;31m---------------------------------------------------------------------------\u001b[0m",
            "\u001b[0;31mTypeError\u001b[0m                                 Traceback (most recent call last)",
            "\u001b[0;32m<ipython-input-131-4a827727982b>\u001b[0m in \u001b[0;36m<module>\u001b[0;34m\u001b[0m\n\u001b[1;32m      2\u001b[0m \u001b[0;34m\u001b[0m\u001b[0m\n\u001b[1;32m      3\u001b[0m \u001b[0mcharacters\u001b[0m \u001b[0;34m=\u001b[0m \u001b[0;34m(\u001b[0m\u001b[0;34m\"Spongebob\"\u001b[0m\u001b[0;34m,\u001b[0m \u001b[0;34m\"Patrick\"\u001b[0m\u001b[0;34m,\u001b[0m \u001b[0;34m\"Sandy\"\u001b[0m\u001b[0;34m,\u001b[0m \u001b[0;34m\"Squidward\"\u001b[0m\u001b[0;34m,\u001b[0m \u001b[0;34m\"Plankton\"\u001b[0m\u001b[0;34m,\u001b[0m \u001b[0;34m\"Mr.Krabs\"\u001b[0m\u001b[0;34m)\u001b[0m\u001b[0;34m\u001b[0m\u001b[0;34m\u001b[0m\u001b[0m\n\u001b[0;32m----> 4\u001b[0;31m \u001b[0mcharacters\u001b[0m\u001b[0;34m[\u001b[0m\u001b[0;36m4\u001b[0m\u001b[0;34m]\u001b[0m \u001b[0;34m=\u001b[0m \u001b[0;34m\"Gary\"\u001b[0m\u001b[0;34m\u001b[0m\u001b[0;34m\u001b[0m\u001b[0m\n\u001b[0m\u001b[1;32m      5\u001b[0m \u001b[0;34m\u001b[0m\u001b[0m\n\u001b[1;32m      6\u001b[0m \u001b[0;31m# Sadly Gary cannot eat Plankton this time :(\u001b[0m\u001b[0;34m\u001b[0m\u001b[0;34m\u001b[0m\u001b[0;34m\u001b[0m\u001b[0m\n",
            "\u001b[0;31mTypeError\u001b[0m: 'tuple' object does not support item assignment"
          ]
        }
      ]
    },
    {
      "cell_type": "markdown",
      "source": [
        "# **Methods -> Tuples**"
      ],
      "metadata": {
        "id": "4uucP6gTIwPu"
      }
    },
    {
      "cell_type": "code",
      "source": [
        "# Since tuples are immutable, they have limited methods\n",
        "\n",
        "# The count method returns the number of times a specified value occurs in a tuple\n",
        "array = [1, 1, 1, 2, 2, 3, 4, 5]\n",
        "print(array.count(1))"
      ],
      "metadata": {
        "colab": {
          "base_uri": "https://localhost:8080/"
        },
        "id": "_4QoCuTeH2oH",
        "outputId": "8c8ff360-b84d-43bb-92d2-c6313f61639d"
      },
      "execution_count": null,
      "outputs": [
        {
          "output_type": "stream",
          "name": "stdout",
          "text": [
            "3\n"
          ]
        }
      ]
    },
    {
      "cell_type": "code",
      "source": [
        "# The index method allows you to search for the FIRST index of a specified value in a tuple\n",
        "array = [1, 1, 1, 2, 2, 3, 4, 5]\n",
        "print(array.index(2))\n",
        "\n",
        "# Even though there are multiple 2's, only the first 2's index is displayed"
      ],
      "metadata": {
        "colab": {
          "base_uri": "https://localhost:8080/"
        },
        "id": "V0TvrgyJIbQ4",
        "outputId": "18cdc4e5-a2ad-4b74-a56d-60888fccaa35"
      },
      "execution_count": null,
      "outputs": [
        {
          "output_type": "stream",
          "name": "stdout",
          "text": [
            "3\n"
          ]
        }
      ]
    },
    {
      "cell_type": "markdown",
      "source": [
        "# **Data Structure 3 -> Sets**"
      ],
      "metadata": {
        "id": "fbAvLM0JJgWv"
      }
    },
    {
      "cell_type": "code",
      "source": [
        "# What is a set?\n",
        "# A set is an unordered collection of items where every element is UNIQUE\n",
        "# We use the set() function to initialize a set\n",
        "\n",
        "cards = set()"
      ],
      "metadata": {
        "id": "dn9cQjbBIjMI"
      },
      "execution_count": null,
      "outputs": []
    },
    {
      "cell_type": "code",
      "source": [
        "# We can also initialize them by using the set() function on a list, or by populating {} with values\n",
        "\n",
        "cards = set([1, 1, 1, 2, 2, 3, 4, 5])\n",
        "print(cards)\n",
        "\n",
        "cards = {1, 1, 1, 2, 2, 3, 4, 5}\n",
        "print(cards)"
      ],
      "metadata": {
        "colab": {
          "base_uri": "https://localhost:8080/"
        },
        "id": "DW0KoQXjZf4n",
        "outputId": "11e5d666-b3a2-4026-dbb8-6e3a08f800ad"
      },
      "execution_count": null,
      "outputs": [
        {
          "output_type": "stream",
          "name": "stdout",
          "text": [
            "{1, 2, 3, 4, 5}\n",
            "{1, 2, 3, 4, 5}\n"
          ]
        }
      ]
    },
    {
      "cell_type": "markdown",
      "source": [
        "# **Methods -> Sets**"
      ],
      "metadata": {
        "id": "XpC20MzjJtdg"
      }
    },
    {
      "cell_type": "code",
      "source": [
        "# Sets are one of the most important data structures in Python because it can only contain unique values\n",
        "\n",
        "# The add method allows us to add an element into the set\n",
        "cards = {1, 2, 3, 4, 5}\n",
        "print(\"Before:\", cards)\n",
        "cards.add(5)\n",
        "print(\"After:\", cards)"
      ],
      "metadata": {
        "id": "Vdb2Wl13JnQm",
        "colab": {
          "base_uri": "https://localhost:8080/"
        },
        "outputId": "404f619e-7e63-4730-b4d4-dc11df380842"
      },
      "execution_count": null,
      "outputs": [
        {
          "output_type": "stream",
          "name": "stdout",
          "text": [
            "Before: {1, 2, 3, 4, 5}\n",
            "After: {1, 2, 3, 4, 5}\n"
          ]
        }
      ]
    },
    {
      "cell_type": "code",
      "source": [
        "# The remove method allows us to delete an element from the set\n",
        "cards = {1, 2, 3, 4, 5}\n",
        "print(\"Before:\", cards)\n",
        "cards.remove(5)\n",
        "print(\"After:\", cards)"
      ],
      "metadata": {
        "colab": {
          "base_uri": "https://localhost:8080/"
        },
        "id": "mpNW7pJJaQCd",
        "outputId": "29723be3-c1ec-4a23-df85-749e5758a6a3"
      },
      "execution_count": null,
      "outputs": [
        {
          "output_type": "stream",
          "name": "stdout",
          "text": [
            "Before: {1, 2, 3, 4, 5}\n",
            "After: {1, 2, 3, 4}\n"
          ]
        }
      ]
    },
    {
      "cell_type": "code",
      "source": [
        "# Sets are also important because they apply directly to Set Theory\n",
        "\n",
        "# The difference method returns a set that contains the difference between two or more sets\n",
        "a = {1, 2, 3, 4}\n",
        "b = {3, 4, 5, 6}\n",
        "\n",
        "# What values in a are NOT in b?\n",
        "print(a.difference(b))\n",
        "# What values in b are NOT in a?\n",
        "print(b.difference(a))"
      ],
      "metadata": {
        "colab": {
          "base_uri": "https://localhost:8080/"
        },
        "id": "EnVqVa5RalUt",
        "outputId": "335075c3-d94f-4fc6-b15c-0bb6be6a26ae"
      },
      "execution_count": null,
      "outputs": [
        {
          "output_type": "stream",
          "name": "stdout",
          "text": [
            "{1, 2}\n",
            "{5, 6}\n"
          ]
        }
      ]
    },
    {
      "cell_type": "code",
      "source": [
        "# The intersection method allows us to see what two sets have in common\n",
        "a = {1, 2, 3, 4}\n",
        "b = {3, 4, 5, 6}\n",
        "\n",
        "# What do a and b have in common?\n",
        "print(a.intersection(b))"
      ],
      "metadata": {
        "colab": {
          "base_uri": "https://localhost:8080/"
        },
        "id": "HKZgO-_-a-eA",
        "outputId": "23703667-cc86-4755-a7b3-d29c0851efeb"
      },
      "execution_count": null,
      "outputs": [
        {
          "output_type": "stream",
          "name": "stdout",
          "text": [
            "{3, 4}\n"
          ]
        }
      ]
    },
    {
      "cell_type": "code",
      "source": [
        "# The union method returns the union of sets\n",
        "a = {1, 2, 3, 4}\n",
        "b = {3, 4, 5, 6}\n",
        "\n",
        "# Let's combine two sets\n",
        "print(a.union(b))"
      ],
      "metadata": {
        "colab": {
          "base_uri": "https://localhost:8080/"
        },
        "id": "8jRN0svEbV8p",
        "outputId": "0edb051b-5287-4a0f-cb73-c761358b3195"
      },
      "execution_count": null,
      "outputs": [
        {
          "output_type": "stream",
          "name": "stdout",
          "text": [
            "{1, 2, 3, 4, 5, 6}\n"
          ]
        }
      ]
    },
    {
      "cell_type": "code",
      "source": [
        "# There are many other methods that sets have but for this tutorial, these are the main ones\n",
        "# If you are interested in learning more, feel free to go to https://www.w3schools.com/python/python_sets_methods.asp"
      ],
      "metadata": {
        "id": "2YvcHa8ubgHk"
      },
      "execution_count": null,
      "outputs": []
    },
    {
      "cell_type": "markdown",
      "source": [
        "# **Data Structure 4 -> Dictionaries**"
      ],
      "metadata": {
        "id": "tUu_kgs1cKNi"
      }
    },
    {
      "cell_type": "code",
      "source": [
        "# What is a dictionary?\n",
        "# Dictionaries are used to store data values in key:value pairs\n",
        "# Dictionaries are initialized using {} or the dict() function\n",
        "\n",
        "# Citizens of Bikini Bottom had a Krabby Patty eating competition. Let's use a dictionary to see how many patties each character ate!\n",
        "patties = {\"Spongebob\": 5, \"Patrick\": 15, \"Sandy\": 3, \"Squidward\": 100, \"Plankton\": 1, \"Mr.Krabs\": 2}\n",
        "print(patties)"
      ],
      "metadata": {
        "colab": {
          "base_uri": "https://localhost:8080/"
        },
        "id": "HX-54RAecR_O",
        "outputId": "371e27b7-e988-4a41-f097-1c888295fcb2"
      },
      "execution_count": null,
      "outputs": [
        {
          "output_type": "stream",
          "name": "stdout",
          "text": [
            "{'Spongebob': 5, 'Patrick': 15, 'Sandy': 3, 'Squidward': 100, 'Plankton': 1, 'Mr.Krabs': 2}\n"
          ]
        }
      ]
    },
    {
      "cell_type": "code",
      "source": [
        "# We can also display dictionaries in this way, which is more common to see in the industry\n",
        "\n",
        "patties = {\n",
        "    \"Spongebob\": 5, \n",
        "    \"Patrick\": 15, \n",
        "    \"Sandy\": 3, \n",
        "    \"Squidward\": 100, \n",
        "    \"Plankton\": 1, \n",
        "    \"Mr.Krabs\": 2\n",
        "}\n",
        "\n",
        "print(patties)"
      ],
      "metadata": {
        "colab": {
          "base_uri": "https://localhost:8080/"
        },
        "id": "zS3jq-ZTduFJ",
        "outputId": "e04d7994-1bb3-4302-9629-9dbd32d6fb43"
      },
      "execution_count": null,
      "outputs": [
        {
          "output_type": "stream",
          "name": "stdout",
          "text": [
            "{'Spongebob': 5, 'Patrick': 15, 'Sandy': 3, 'Squidward': 100, 'Plankton': 1, 'Mr.Krabs': 2}\n"
          ]
        }
      ]
    },
    {
      "cell_type": "code",
      "source": [
        "# If you want to get a specific value, you must use the appropriate key\n",
        "\n",
        "# Let's find the amount of patties that were eaten by Squidward\n",
        "print(patties[\"Squidward\"])"
      ],
      "metadata": {
        "colab": {
          "base_uri": "https://localhost:8080/"
        },
        "id": "Osi4oMR4eF8H",
        "outputId": "a145cbec-1fe9-4026-e710-5d75b7f68d4f"
      },
      "execution_count": null,
      "outputs": [
        {
          "output_type": "stream",
          "name": "stdout",
          "text": [
            "100\n"
          ]
        }
      ]
    },
    {
      "cell_type": "code",
      "source": [
        "# Let's find the amount of patties that were eaten by Larry\n",
        "print(patties[\"Larry\"])"
      ],
      "metadata": {
        "colab": {
          "base_uri": "https://localhost:8080/",
          "height": 183
        },
        "id": "sF6tDSqQeb7O",
        "outputId": "1edd1351-e630-4235-ee0f-718b1b9b4921"
      },
      "execution_count": null,
      "outputs": [
        {
          "output_type": "error",
          "ename": "KeyError",
          "evalue": "ignored",
          "traceback": [
            "\u001b[0;31m---------------------------------------------------------------------------\u001b[0m",
            "\u001b[0;31mKeyError\u001b[0m                                  Traceback (most recent call last)",
            "\u001b[0;32m<ipython-input-15-fbe9d8bbd88a>\u001b[0m in \u001b[0;36m<module>\u001b[0;34m\u001b[0m\n\u001b[1;32m      1\u001b[0m \u001b[0;31m# Let's find the amount of patties that were eaten by Larry\u001b[0m\u001b[0;34m\u001b[0m\u001b[0;34m\u001b[0m\u001b[0;34m\u001b[0m\u001b[0m\n\u001b[0;32m----> 2\u001b[0;31m \u001b[0mprint\u001b[0m\u001b[0;34m(\u001b[0m\u001b[0mpatties\u001b[0m\u001b[0;34m[\u001b[0m\u001b[0;34m\"Larry\"\u001b[0m\u001b[0;34m]\u001b[0m\u001b[0;34m)\u001b[0m\u001b[0;34m\u001b[0m\u001b[0;34m\u001b[0m\u001b[0m\n\u001b[0m",
            "\u001b[0;31mKeyError\u001b[0m: 'Larry'"
          ]
        }
      ]
    },
    {
      "cell_type": "code",
      "source": [
        "# Since Larry did not compete in the competition, we will get an error\n",
        "# To avoid getting errors about invalid keys, we can use the get() method to bypass this\n",
        "\n",
        "print(patties.get(\"Larry\"))"
      ],
      "metadata": {
        "colab": {
          "base_uri": "https://localhost:8080/"
        },
        "id": "Dq6WwGNtejsM",
        "outputId": "c803c540-6d10-445b-b0db-853c43c5bbb5"
      },
      "execution_count": null,
      "outputs": [
        {
          "output_type": "stream",
          "name": "stdout",
          "text": [
            "None\n"
          ]
        }
      ]
    },
    {
      "cell_type": "code",
      "source": [
        "# To add a record into a dictionary, we can use the new key and assign it to a value\n",
        "\n",
        "# Let's add Larry to the competition\n",
        "print(\"Before:\", patties)\n",
        "\n",
        "patties[\"Larry\"] = 10\n",
        "\n",
        "print(\"After:\", patties)"
      ],
      "metadata": {
        "colab": {
          "base_uri": "https://localhost:8080/"
        },
        "id": "EnG5MsAhe4le",
        "outputId": "d7991976-0227-48ca-aa8b-31d1fe1e52e5"
      },
      "execution_count": null,
      "outputs": [
        {
          "output_type": "stream",
          "name": "stdout",
          "text": [
            "Before: {'Spongebob': 5, 'Patrick': 15, 'Sandy': 3, 'Squidward': 100, 'Plankton': 1, 'Mr.Krabs': 2}\n",
            "After: {'Spongebob': 5, 'Patrick': 15, 'Sandy': 3, 'Squidward': 100, 'Plankton': 1, 'Mr.Krabs': 2, 'Larry': 10}\n"
          ]
        }
      ]
    },
    {
      "cell_type": "code",
      "source": [
        "# To delete a record from a dictionary, we can use the del keyword\n",
        "\n",
        "# Let's say Spongebob was caught cheating and was disqualified\n",
        "print(\"Before:\", patties)\n",
        "\n",
        "del patties[\"Spongebob\"]\n",
        "\n",
        "print(\"After:\", patties)"
      ],
      "metadata": {
        "colab": {
          "base_uri": "https://localhost:8080/"
        },
        "id": "AfGvJrLefY7m",
        "outputId": "ba3f4af4-0004-4064-c38b-ba28745338cb"
      },
      "execution_count": null,
      "outputs": [
        {
          "output_type": "stream",
          "name": "stdout",
          "text": [
            "Before: {'Spongebob': 5, 'Patrick': 15, 'Sandy': 3, 'Squidward': 100, 'Plankton': 1, 'Mr.Krabs': 2, 'Larry': 10}\n",
            "After: {'Patrick': 15, 'Sandy': 3, 'Squidward': 100, 'Plankton': 1, 'Mr.Krabs': 2, 'Larry': 10}\n"
          ]
        }
      ]
    },
    {
      "cell_type": "code",
      "source": [
        "# To change a record from a dictionary, we can reassign the value using the key\n",
        "\n",
        "# Let's say Patrick actually ate 20 patties instead of 15 patties\n",
        "print(\"Before:\", patties)\n",
        "\n",
        "patties[\"Patrick\"] = 20\n",
        "\n",
        "print(\"After:\", patties)"
      ],
      "metadata": {
        "colab": {
          "base_uri": "https://localhost:8080/"
        },
        "id": "BNYoLxDpftid",
        "outputId": "0b56002d-b6c8-4c77-8735-bcc89253f4fb"
      },
      "execution_count": null,
      "outputs": [
        {
          "output_type": "stream",
          "name": "stdout",
          "text": [
            "Before: {'Patrick': 15, 'Sandy': 3, 'Squidward': 100, 'Plankton': 1, 'Mr.Krabs': 2, 'Larry': 10}\n",
            "After: {'Patrick': 20, 'Sandy': 3, 'Squidward': 100, 'Plankton': 1, 'Mr.Krabs': 2, 'Larry': 10}\n"
          ]
        }
      ]
    },
    {
      "cell_type": "code",
      "source": [
        "# To see all of the keys in your dictionary, we can use the keys() function\n",
        "print(patties.keys())"
      ],
      "metadata": {
        "colab": {
          "base_uri": "https://localhost:8080/"
        },
        "id": "x2T-jMFhgBEm",
        "outputId": "385f4a68-5339-411c-fda9-05b748b96eec"
      },
      "execution_count": null,
      "outputs": [
        {
          "output_type": "stream",
          "name": "stdout",
          "text": [
            "dict_keys(['Patrick', 'Sandy', 'Squidward', 'Plankton', 'Mr.Krabs', 'Larry'])\n"
          ]
        }
      ]
    },
    {
      "cell_type": "code",
      "source": [
        "# To see all of the values in your dictionary, we can use the values() function\n",
        "print(patties.values())"
      ],
      "metadata": {
        "colab": {
          "base_uri": "https://localhost:8080/"
        },
        "id": "C02d9gRVgNCL",
        "outputId": "ee3ad1a1-07b8-4014-dcfe-4bd3e0cbc9d2"
      },
      "execution_count": null,
      "outputs": [
        {
          "output_type": "stream",
          "name": "stdout",
          "text": [
            "dict_values([20, 3, 100, 1, 2, 10])\n"
          ]
        }
      ]
    },
    {
      "cell_type": "code",
      "source": [
        "# There are many other methods for dictionaries\n",
        "# To learn more, please visit https://www.w3schools.com/python/python_dictionaries.asp"
      ],
      "metadata": {
        "id": "zIEqc0fUgQuE"
      },
      "execution_count": null,
      "outputs": []
    },
    {
      "cell_type": "markdown",
      "source": [
        "# **Functions**"
      ],
      "metadata": {
        "id": "iG35b9R0gqVt"
      }
    },
    {
      "cell_type": "code",
      "source": [
        "# What are functions?\n",
        "# Functions are blocks of organized, reusable code that is usually used to perform a task\n",
        "# They are defined using the def keyword\n",
        "\n",
        "# This function here prints a greeting\n",
        "def greeting():\n",
        "  print(\"Hello!\")\n",
        "\n",
        "# To use a function, we call it by simply stating the name of the function and its parameters\n",
        "# Since this function has no parameters, we can simply do this:\n",
        "greeting()"
      ],
      "metadata": {
        "colab": {
          "base_uri": "https://localhost:8080/"
        },
        "id": "nGXfaEURgs9x",
        "outputId": "35b56847-e7f8-4815-af28-e8d7d4a2a0bc"
      },
      "execution_count": null,
      "outputs": [
        {
          "output_type": "stream",
          "name": "stdout",
          "text": [
            "Hello!\n"
          ]
        }
      ]
    },
    {
      "cell_type": "code",
      "source": [
        "# We can also put parameters into functions as well, called positional arguments\n",
        "\n",
        "def greeting(name):\n",
        "  print(\"Hello! My name is\", name)\n",
        "\n",
        "greeting(\"Natalia\")\n",
        "greeting(\"Ariadna\")"
      ],
      "metadata": {
        "colab": {
          "base_uri": "https://localhost:8080/"
        },
        "id": "MPXg8wd4hXvl",
        "outputId": "f63a9eb3-4a73-4594-faab-4fce84db1bc5"
      },
      "execution_count": null,
      "outputs": [
        {
          "output_type": "stream",
          "name": "stdout",
          "text": [
            "Hello! My name is Natalia\n",
            "Hello! My name is Ariadna\n"
          ]
        }
      ]
    },
    {
      "cell_type": "code",
      "source": [
        "# If we don't specify the correct parameters, we will get an error\n",
        "\n",
        "def greeting(name):\n",
        "  print(\"Hello! My name is\", name)\n",
        "\n",
        "greeting()"
      ],
      "metadata": {
        "colab": {
          "base_uri": "https://localhost:8080/",
          "height": 200
        },
        "id": "tY0bxlV5hzNZ",
        "outputId": "91d142bb-9206-4b97-ae97-6ec4288ff919"
      },
      "execution_count": null,
      "outputs": [
        {
          "output_type": "error",
          "ename": "TypeError",
          "evalue": "ignored",
          "traceback": [
            "\u001b[0;31m---------------------------------------------------------------------------\u001b[0m",
            "\u001b[0;31mTypeError\u001b[0m                                 Traceback (most recent call last)",
            "\u001b[0;32m<ipython-input-35-7d805c6a4fff>\u001b[0m in \u001b[0;36m<module>\u001b[0;34m\u001b[0m\n\u001b[1;32m      4\u001b[0m   \u001b[0mprint\u001b[0m\u001b[0;34m(\u001b[0m\u001b[0;34m\"Hello! My name is\"\u001b[0m\u001b[0;34m,\u001b[0m \u001b[0mname\u001b[0m\u001b[0;34m)\u001b[0m\u001b[0;34m\u001b[0m\u001b[0;34m\u001b[0m\u001b[0m\n\u001b[1;32m      5\u001b[0m \u001b[0;34m\u001b[0m\u001b[0m\n\u001b[0;32m----> 6\u001b[0;31m \u001b[0mgreeting\u001b[0m\u001b[0;34m(\u001b[0m\u001b[0;34m)\u001b[0m\u001b[0;34m\u001b[0m\u001b[0;34m\u001b[0m\u001b[0m\n\u001b[0m",
            "\u001b[0;31mTypeError\u001b[0m: greeting() missing 1 required positional argument: 'name'"
          ]
        }
      ]
    },
    {
      "cell_type": "code",
      "source": [
        "# To take that into account, we can add a keyword argument by using the = operator\n",
        "# The value assigned to the argument will act like a default value\n",
        "\n",
        "def greeting(name=\"Helen\"):\n",
        "  print(\"Hello! My name is\", name)\n",
        "  \n",
        "greeting()"
      ],
      "metadata": {
        "colab": {
          "base_uri": "https://localhost:8080/"
        },
        "id": "9MFwjHMvh_RR",
        "outputId": "0620b2eb-ba9f-4d77-c63b-42254cd6d676"
      },
      "execution_count": null,
      "outputs": [
        {
          "output_type": "stream",
          "name": "stdout",
          "text": [
            "Hello! My name is Helen\n"
          ]
        }
      ]
    },
    {
      "cell_type": "code",
      "source": [
        "# We can also have multiple parameters in a function as well\n",
        "\n",
        "def intro(name, role):\n",
        "  print(\"Hello everyone! My name is\", name, \"and I am the\", role, \"at Baruch AIS\")\n",
        "\n",
        "intro(\"Natalia\", \"Director of Data Science\")"
      ],
      "metadata": {
        "colab": {
          "base_uri": "https://localhost:8080/"
        },
        "id": "2BV2_0X0iZGu",
        "outputId": "42223fa4-16ef-40ab-f2b0-f0b8ab099200"
      },
      "execution_count": null,
      "outputs": [
        {
          "output_type": "stream",
          "name": "stdout",
          "text": [
            "Hello everyone! My name is Natalia and I am the Director of Data Science at Baruch AIS\n"
          ]
        }
      ]
    },
    {
      "cell_type": "code",
      "source": [
        "# Since these are positional arguments, the order in which the arguments are given matter\n",
        "\n",
        "# Let's take a look at this example:\n",
        "def intro(name, role):\n",
        "  print(\"Hello everyone! My name is\", name, \"and I am the\", role, \"at Baruch AIS\")\n",
        "\n",
        "intro(\"Data Science Associate\", \"Ariadna\")"
      ],
      "metadata": {
        "colab": {
          "base_uri": "https://localhost:8080/"
        },
        "id": "1nPeos5Djq7a",
        "outputId": "d4df3ad6-b365-4c2e-9d00-71df2ec8666a"
      },
      "execution_count": null,
      "outputs": [
        {
          "output_type": "stream",
          "name": "stdout",
          "text": [
            "Hello everyone! My name is Data Science Associate and I am the Ariadna at Baruch AIS\n"
          ]
        }
      ]
    },
    {
      "cell_type": "code",
      "source": [
        "# We can also have functions return a value that can be used for other uses\n",
        "\n",
        "# Let's create a function to find the area of a rectangle\n",
        "def area(length, width):\n",
        "  return length * width\n",
        "\n",
        "a = area(5, 8)\n",
        "print(\"The area is\", a)"
      ],
      "metadata": {
        "colab": {
          "base_uri": "https://localhost:8080/"
        },
        "id": "kgc9Bd9_j9wQ",
        "outputId": "01294ecc-76b3-4639-bd80-3151f07e1a5b"
      },
      "execution_count": null,
      "outputs": [
        {
          "output_type": "stream",
          "name": "stdout",
          "text": [
            "The area is 40\n"
          ]
        }
      ]
    },
    {
      "cell_type": "code",
      "source": [
        "# Let's create a function to find the volume of a rectangular prism\n",
        "def volume(length, width, height):\n",
        "  return length * width * height\n",
        "\n",
        "v = volume(10, 4, 9)\n",
        "print(\"The volume is\", v)"
      ],
      "metadata": {
        "colab": {
          "base_uri": "https://localhost:8080/"
        },
        "id": "dCDtY6cAkq7d",
        "outputId": "bfa1e833-544d-4604-c8e1-44f4ec8fbe65"
      },
      "execution_count": null,
      "outputs": [
        {
          "output_type": "stream",
          "name": "stdout",
          "text": [
            "The volume is 360\n"
          ]
        }
      ]
    },
    {
      "cell_type": "markdown",
      "source": [
        "# **😊 Thank you for joining our Intro to Python Workshop! 😊**\n"
      ],
      "metadata": {
        "id": "azI6o52clIK5"
      }
    },
    {
      "cell_type": "code",
      "source": [],
      "metadata": {
        "id": "txjPnfnKlQTW"
      },
      "execution_count": null,
      "outputs": []
    }
  ]
}